{
  "nbformat": 4,
  "nbformat_minor": 0,
  "metadata": {
    "colab": {
      "provenance": []
    },
    "kernelspec": {
      "name": "python3",
      "display_name": "Python 3"
    },
    "language_info": {
      "name": "python"
    }
  },
  "cells": [
    {
      "cell_type": "code",
      "execution_count": null,
      "metadata": {
        "id": "mhzFG8YlBAjG"
      },
      "outputs": [],
      "source": [
        "from sympy import*\n",
        "import numpy as np\n",
        "from IPython.display import display, Math\n",
        "init_printing(use_unicode=False)"
      ]
    },
    {
      "cell_type": "code",
      "source": [
        "from sympy import symbols, sympify, diff, hessian, Matrix, zeros, solve\n",
        "\n",
        "def newton():\n",
        "    # Input the number of variables\n",
        "    n = int(input(\"Masukkan banyak variabel: \"))\n",
        "\n",
        "    # Input variable names\n",
        "    var_names = []\n",
        "    for i in range(n):\n",
        "        var_name = input(f\"Masukkan nama variabel ke-{i+1}: \")\n",
        "        var_names.append(var_name)\n",
        "\n",
        "    # Create symbolic variables\n",
        "    symbolic_vars = symbols(var_names)\n",
        "\n",
        "    # Input the objective function\n",
        "    fungsi_str = input(\"Masukkan fungsi objektif: \")\n",
        "    fungsi = sympify(fungsi_str)\n",
        "\n",
        "    # Input initial values for variables\n",
        "    initial_values = []\n",
        "    for i, var_name in enumerate(var_names):\n",
        "        initial_value = float(input(f\"Masukkan titik awal {var_name}: \"))\n",
        "        initial_values.append(initial_value)\n",
        "\n",
        "    # Initialize X with initial values\n",
        "    X = [Matrix(initial_values)]\n",
        "\n",
        "    # Perform Newton's method\n",
        "    iterasi = 0\n",
        "    max_iter = 20\n",
        "    while iterasi < max_iter:\n",
        "        # Compute gradient and Hessian at current point\n",
        "        gradf = [diff(fungsi, var) for var in symbolic_vars]\n",
        "        H = hessian(fungsi, symbolic_vars)\n",
        "        solutions = {symbolic_vars[i]: X[-1][i] for i in range(n)}\n",
        "        gradf_subs = [grad.subs(solutions) for grad in gradf]\n",
        "        H_subs = H.subs(solutions)\n",
        "\n",
        "        # Compute step direction\n",
        "        d = -H_subs.inv() * Matrix(gradf_subs)\n",
        "\n",
        "        # Line search for step size\n",
        "        lamda = symbols('lamda')\n",
        "        xi = [X[-1][i] + lamda * d[i] for i in range(n)]\n",
        "        g = fungsi.subs({symbolic_vars[i]: xi[i] for i in range(n)})\n",
        "        gaksen = diff(g, lamda)\n",
        "        lamda_solution = solve(gaksen)\n",
        "        if lamda_solution:\n",
        "            lamda_optimal = lamda_solution[0]\n",
        "        else:\n",
        "            print(\"Gagal menemukan panjang langkah yang optimal.\")\n",
        "            break\n",
        "\n",
        "        # Update X\n",
        "        print(f'a : {lamda_solution}')\n",
        "        display(g)\n",
        "        X.append(X[-1] + lamda_optimal * d)\n",
        "        nilai = {symbolic_vars[i]: d[i] for i in range(len(d))}\n",
        "        gradf_nilai = [grad.subs(nilai) for grad in gradf]\n",
        "        # Print iteration information\n",
        "        print(f\"Iterasi ke-{iterasi+1}\")\n",
        "        print(f'd{iterasi} : {d}')\n",
        "        print(\"Nilai X:\", X[-1])\n",
        "        print(\"Gradient:\", gradf)\n",
        "        print(f\"Gradient {X[-1]}: { gradf_nilai}\")\n",
        "        # Check if gradient is close to zero\n",
        "        if all((abs(grad) < 1e-6 )for grad in gradf_subs):\n",
        "            print(\"Konvergensi tercapai.\")\n",
        "            break\n",
        "\n",
        "        iterasi += 1\n",
        "    else:\n",
        "        print(\"Iterasi maksimum tercapai.\")\n",
        "\n",
        "newton()\n"
      ],
      "metadata": {
        "colab": {
          "base_uri": "https://localhost:8080/",
          "height": 333
        },
        "id": "4plcXGF-BEFP",
        "outputId": "59318819-b473-4d9a-86b0-dcfa241162c2"
      },
      "execution_count": null,
      "outputs": [
        {
          "output_type": "error",
          "ename": "KeyboardInterrupt",
          "evalue": "Interrupted by user",
          "traceback": [
            "\u001b[0;31m---------------------------------------------------------------------------\u001b[0m",
            "\u001b[0;31mKeyboardInterrupt\u001b[0m                         Traceback (most recent call last)",
            "\u001b[0;32m<ipython-input-5-fe8deefc1eba>\u001b[0m in \u001b[0;36m<cell line: 76>\u001b[0;34m()\u001b[0m\n\u001b[1;32m     74\u001b[0m         \u001b[0mprint\u001b[0m\u001b[0;34m(\u001b[0m\u001b[0;34m\"Iterasi maksimum tercapai.\"\u001b[0m\u001b[0;34m)\u001b[0m\u001b[0;34m\u001b[0m\u001b[0;34m\u001b[0m\u001b[0m\n\u001b[1;32m     75\u001b[0m \u001b[0;34m\u001b[0m\u001b[0m\n\u001b[0;32m---> 76\u001b[0;31m \u001b[0mnewton\u001b[0m\u001b[0;34m(\u001b[0m\u001b[0;34m)\u001b[0m\u001b[0;34m\u001b[0m\u001b[0;34m\u001b[0m\u001b[0m\n\u001b[0m",
            "\u001b[0;32m<ipython-input-5-fe8deefc1eba>\u001b[0m in \u001b[0;36mnewton\u001b[0;34m()\u001b[0m\n\u001b[1;32m      3\u001b[0m \u001b[0;32mdef\u001b[0m \u001b[0mnewton\u001b[0m\u001b[0;34m(\u001b[0m\u001b[0;34m)\u001b[0m\u001b[0;34m:\u001b[0m\u001b[0;34m\u001b[0m\u001b[0;34m\u001b[0m\u001b[0m\n\u001b[1;32m      4\u001b[0m     \u001b[0;31m# Input the number of variables\u001b[0m\u001b[0;34m\u001b[0m\u001b[0;34m\u001b[0m\u001b[0m\n\u001b[0;32m----> 5\u001b[0;31m     \u001b[0mn\u001b[0m \u001b[0;34m=\u001b[0m \u001b[0mint\u001b[0m\u001b[0;34m(\u001b[0m\u001b[0minput\u001b[0m\u001b[0;34m(\u001b[0m\u001b[0;34m\"Masukkan banyak variabel: \"\u001b[0m\u001b[0;34m)\u001b[0m\u001b[0;34m)\u001b[0m\u001b[0;34m\u001b[0m\u001b[0;34m\u001b[0m\u001b[0m\n\u001b[0m\u001b[1;32m      6\u001b[0m \u001b[0;34m\u001b[0m\u001b[0m\n\u001b[1;32m      7\u001b[0m     \u001b[0;31m# Input variable names\u001b[0m\u001b[0;34m\u001b[0m\u001b[0;34m\u001b[0m\u001b[0m\n",
            "\u001b[0;32m/usr/local/lib/python3.10/dist-packages/ipykernel/kernelbase.py\u001b[0m in \u001b[0;36mraw_input\u001b[0;34m(self, prompt)\u001b[0m\n\u001b[1;32m    849\u001b[0m                 \u001b[0;34m\"raw_input was called, but this frontend does not support input requests.\"\u001b[0m\u001b[0;34m\u001b[0m\u001b[0;34m\u001b[0m\u001b[0m\n\u001b[1;32m    850\u001b[0m             )\n\u001b[0;32m--> 851\u001b[0;31m         return self._input_request(str(prompt),\n\u001b[0m\u001b[1;32m    852\u001b[0m             \u001b[0mself\u001b[0m\u001b[0;34m.\u001b[0m\u001b[0m_parent_ident\u001b[0m\u001b[0;34m,\u001b[0m\u001b[0;34m\u001b[0m\u001b[0;34m\u001b[0m\u001b[0m\n\u001b[1;32m    853\u001b[0m             \u001b[0mself\u001b[0m\u001b[0;34m.\u001b[0m\u001b[0m_parent_header\u001b[0m\u001b[0;34m,\u001b[0m\u001b[0;34m\u001b[0m\u001b[0;34m\u001b[0m\u001b[0m\n",
            "\u001b[0;32m/usr/local/lib/python3.10/dist-packages/ipykernel/kernelbase.py\u001b[0m in \u001b[0;36m_input_request\u001b[0;34m(self, prompt, ident, parent, password)\u001b[0m\n\u001b[1;32m    893\u001b[0m             \u001b[0;32mexcept\u001b[0m \u001b[0mKeyboardInterrupt\u001b[0m\u001b[0;34m:\u001b[0m\u001b[0;34m\u001b[0m\u001b[0;34m\u001b[0m\u001b[0m\n\u001b[1;32m    894\u001b[0m                 \u001b[0;31m# re-raise KeyboardInterrupt, to truncate traceback\u001b[0m\u001b[0;34m\u001b[0m\u001b[0;34m\u001b[0m\u001b[0m\n\u001b[0;32m--> 895\u001b[0;31m                 \u001b[0;32mraise\u001b[0m \u001b[0mKeyboardInterrupt\u001b[0m\u001b[0;34m(\u001b[0m\u001b[0;34m\"Interrupted by user\"\u001b[0m\u001b[0;34m)\u001b[0m \u001b[0;32mfrom\u001b[0m \u001b[0;32mNone\u001b[0m\u001b[0;34m\u001b[0m\u001b[0;34m\u001b[0m\u001b[0m\n\u001b[0m\u001b[1;32m    896\u001b[0m             \u001b[0;32mexcept\u001b[0m \u001b[0mException\u001b[0m \u001b[0;32mas\u001b[0m \u001b[0me\u001b[0m\u001b[0;34m:\u001b[0m\u001b[0;34m\u001b[0m\u001b[0;34m\u001b[0m\u001b[0m\n\u001b[1;32m    897\u001b[0m                 \u001b[0mself\u001b[0m\u001b[0;34m.\u001b[0m\u001b[0mlog\u001b[0m\u001b[0;34m.\u001b[0m\u001b[0mwarning\u001b[0m\u001b[0;34m(\u001b[0m\u001b[0;34m\"Invalid Message:\"\u001b[0m\u001b[0;34m,\u001b[0m \u001b[0mexc_info\u001b[0m\u001b[0;34m=\u001b[0m\u001b[0;32mTrue\u001b[0m\u001b[0;34m)\u001b[0m\u001b[0;34m\u001b[0m\u001b[0;34m\u001b[0m\u001b[0m\n",
            "\u001b[0;31mKeyboardInterrupt\u001b[0m: Interrupted by user"
          ]
        }
      ]
    },
    {
      "cell_type": "code",
      "source": [
        "from sympy import symbols, sympify, diff, hessian, Matrix, zeros, solve\n",
        "\n",
        "def newton():\n",
        "    # Input the number of variables\n",
        "    n = int(input(\"Masukkan banyak variabel: \"))\n",
        "\n",
        "    # Input variable names\n",
        "    var_names = []\n",
        "    for i in range(n):\n",
        "        var_name = input(f\"Masukkan nama variabel ke-{i+1}: \")\n",
        "        var_names.append(var_name)\n",
        "\n",
        "    # Create symbolic variables\n",
        "    symbolic_vars = symbols(var_names)\n",
        "\n",
        "    # Input the objective function\n",
        "    fungsi_str = input(\"Masukkan fungsi objektif: \")\n",
        "    fungsi = sympify(fungsi_str)\n",
        "\n",
        "    # Input initial values for variables\n",
        "    initial_values = []\n",
        "    for i, var_name in enumerate(var_names):\n",
        "        initial_value = float(input(f\"Masukkan titik awal {var_name}: \"))\n",
        "        initial_values.append(initial_value)\n",
        "\n",
        "    # Initialize X with initial values\n",
        "    X = [Matrix(initial_values)]\n",
        "\n",
        "    # Perform Newton's method\n",
        "    iterasi = 0\n",
        "    max_iter = 20\n",
        "    while iterasi < max_iter:\n",
        "        # Compute gradient and Hessian at current point\n",
        "        gradf = [diff(fungsi, var) for var in symbolic_vars]\n",
        "        H = hessian(fungsi, symbolic_vars)\n",
        "        solutions = {symbolic_vars[i]: X[-1][i] for i in range(n)}\n",
        "        gradf_subs = [grad.subs(solutions) for grad in gradf]\n",
        "        H_subs = H.subs(solutions)\n",
        "\n",
        "        # Compute step direction\n",
        "        d = -H_subs.inv() * Matrix(gradf_subs)\n",
        "\n",
        "        # Line search for step size\n",
        "        lamda = symbols('lamda')\n",
        "        xi = [X[-1][i] + lamda * d[i] for i in range(n)]\n",
        "        g = fungsi.subs({symbolic_vars[i]: xi[i] for i in range(n)})\n",
        "        gaksen = diff(g, lamda)\n",
        "        lamda_solution = solve(gaksen)\n",
        "        if lamda_solution:\n",
        "            lamda_optimal = lamda_solution[0]\n",
        "        else:\n",
        "            print(\"Gagal menemukan panjang langkah yang optimal.\")\n",
        "            break\n",
        "\n",
        "        # Update X\n",
        "\n",
        "        print(f\"Iterasi ke-{iterasi+1}\")\n",
        "        print(f\"gradf(x{iterasi}) : {gradf_subs}\")\n",
        "        print(f'a : {lamda_solution}')\n",
        "        print()\n",
        "        print(f\"x({iterasi+1})\")\n",
        "        display(xi)\n",
        "        print()\n",
        "        print(f\"f(x{iterasi+1})\")\n",
        "        display(g)\n",
        "        print()\n",
        "        print(f\"f'(x{iterasi+1})\")\n",
        "        display(gaksen)\n",
        "        print()\n",
        "        print('hessian')\n",
        "        display(H)\n",
        "        print()\n",
        "        print(f\"hessian(x{iterasi})\")\n",
        "        display(H_subs)\n",
        "        print()\n",
        "        print(f\"invers hessian(x{iterasi})\")\n",
        "        display(-H_subs.inv())\n",
        "        print()\n",
        "        X.append(X[-1] + lamda_optimal * d)\n",
        "        nilai = {symbolic_vars[i]: d[i] for i in range(len(d))}\n",
        "        gradf_nilai = [grad.subs(nilai) for grad in gradf]\n",
        "        # Print iteration information\n",
        "        print()\n",
        "        print(f\"x{iterasi+1}\")\n",
        "        display(X[-1])\n",
        "        print()\n",
        "        print(f'd{iterasi} : {d}')\n",
        "        print(\"Nilai X:\", X[-1])\n",
        "        print(\"Gradient:\", gradf)\n",
        "        print(f\"Gradient {X[-1]}: { gradf_nilai}\")\n",
        "        # Check if gradient is close to zero\n",
        "        if all((abs(grad) < 1e-6 )for grad in gradf_subs):\n",
        "            print(\"Konvergensi tercapai.\")\n",
        "            break\n",
        "\n",
        "        iterasi += 1\n",
        "    else:\n",
        "        print(\"Iterasi maksimum tercapai.\")\n",
        "\n",
        "newton()\n"
      ],
      "metadata": {
        "colab": {
          "base_uri": "https://localhost:8080/",
          "height": 1000
        },
        "id": "mJwSaNzz_Opx",
        "outputId": "bc6d698a-fe61-479d-a82d-bd741cc7cd08"
      },
      "execution_count": null,
      "outputs": [
        {
          "output_type": "stream",
          "name": "stdout",
          "text": [
            "Masukkan banyak variabel: 2\n",
            "Masukkan nama variabel ke-1: x1\n",
            "Masukkan nama variabel ke-2: x2\n",
            "Masukkan fungsi objektif: -1/(x1**2+x2**2+2)\n",
            "Masukkan titik awal x1: 4\n",
            "Masukkan titik awal x2: 0\n",
            "Iterasi ke-1\n",
            "gradf(x0) : [0.0246913580246914, 0]\n",
            "a : [-2.55555555555555]\n",
            "\n",
            "x(1)\n"
          ]
        },
        {
          "output_type": "display_data",
          "data": {
            "text/plain": [
              "[1.56521739130435*lamda + 4.0, 0]"
            ],
            "text/latex": "$\\displaystyle \\left[ 1.56521739130435 \\lambda + 4.0, \\  0\\right]$"
          },
          "metadata": {}
        },
        {
          "output_type": "stream",
          "name": "stdout",
          "text": [
            "\n",
            "f(x1)\n"
          ]
        },
        {
          "output_type": "display_data",
          "data": {
            "text/plain": [
              "                  -1                   \n",
              "---------------------------------------\n",
              "                                  2    \n",
              "16.0*(0.391304347826087*lamda + 1)  + 2"
            ],
            "text/latex": "$\\displaystyle - \\frac{1}{16.0 \\left(0.391304347826087 \\lambda + 1\\right)^{2} + 2}$"
          },
          "metadata": {}
        },
        {
          "output_type": "stream",
          "name": "stdout",
          "text": [
            "\n",
            "f'(x1)\n"
          ]
        },
        {
          "output_type": "display_data",
          "data": {
            "text/plain": [
              "-0.00390625*(-4.89981096408318*lamda - 12.5217391304348) \n",
              "---------------------------------------------------------\n",
              "                                                2        \n",
              "        /                             2        \\         \n",
              "        \\(0.391304347826087*lamda + 1)  + 0.125/         "
            ],
            "text/latex": "$\\displaystyle - \\frac{0.00390625 \\left(- 4.89981096408318 \\lambda - 12.5217391304348\\right)}{\\left(\\left(0.391304347826087 \\lambda + 1\\right)^{2} + 0.125\\right)^{2}}$"
          },
          "metadata": {}
        },
        {
          "output_type": "stream",
          "name": "stdout",
          "text": [
            "\n",
            "hessian\n"
          ]
        },
        {
          "output_type": "display_data",
          "data": {
            "text/plain": [
              "[           2                                                                ]\n",
              "[       8*x1                 2                       -8*x1*x2                ]\n",
              "[- ---------------- + ----------------            ----------------           ]\n",
              "[                 3                  2                           3           ]\n",
              "[  /  2     2    \\    /  2     2    \\             /  2     2    \\            ]\n",
              "[  \\x1  + x2  + 2/    \\x1  + x2  + 2/             \\x1  + x2  + 2/            ]\n",
              "[                                                                            ]\n",
              "[                                                  2                         ]\n",
              "[             -8*x1*x2                         8*x2                 2        ]\n",
              "[          ----------------             - ---------------- + ----------------]\n",
              "[                         3                              3                  2]\n",
              "[          /  2     2    \\                /  2     2    \\    /  2     2    \\ ]\n",
              "[          \\x1  + x2  + 2/                \\x1  + x2  + 2/    \\x1  + x2  + 2/ ]"
            ],
            "text/latex": "$\\displaystyle \\left[\\begin{matrix}- \\frac{8 x_{1}^{2}}{\\left(x_{1}^{2} + x_{2}^{2} + 2\\right)^{3}} + \\frac{2}{\\left(x_{1}^{2} + x_{2}^{2} + 2\\right)^{2}} & - \\frac{8 x_{1} x_{2}}{\\left(x_{1}^{2} + x_{2}^{2} + 2\\right)^{3}}\\\\- \\frac{8 x_{1} x_{2}}{\\left(x_{1}^{2} + x_{2}^{2} + 2\\right)^{3}} & - \\frac{8 x_{2}^{2}}{\\left(x_{1}^{2} + x_{2}^{2} + 2\\right)^{3}} + \\frac{2}{\\left(x_{1}^{2} + x_{2}^{2} + 2\\right)^{2}}\\end{matrix}\\right]$"
          },
          "metadata": {}
        },
        {
          "output_type": "stream",
          "name": "stdout",
          "text": [
            "\n",
            "hessian(x0)\n"
          ]
        },
        {
          "output_type": "display_data",
          "data": {
            "text/plain": [
              "[-0.0157750342935528           0         ]\n",
              "[                                        ]\n",
              "[         0           0.00617283950617284]"
            ],
            "text/latex": "$\\displaystyle \\left[\\begin{matrix}-0.0157750342935528 & 0\\\\0 & 0.00617283950617284\\end{matrix}\\right]$"
          },
          "metadata": {}
        },
        {
          "output_type": "stream",
          "name": "stdout",
          "text": [
            "\n",
            "invers hessian(x0)\n"
          ]
        },
        {
          "output_type": "display_data",
          "data": {
            "text/plain": [
              "[63.3913043478261    0   ]\n",
              "[                        ]\n",
              "[       0          -162.0]"
            ],
            "text/latex": "$\\displaystyle \\left[\\begin{matrix}63.3913043478261 & 0\\\\0 & -162.0\\end{matrix}\\right]$"
          },
          "metadata": {}
        },
        {
          "output_type": "stream",
          "name": "stdout",
          "text": [
            "\n",
            "\n",
            "x1\n"
          ]
        },
        {
          "output_type": "display_data",
          "data": {
            "text/plain": [
              "[3.10862446895044e-15]\n",
              "[                    ]\n",
              "[         0          ]"
            ],
            "text/latex": "$\\displaystyle \\left[\\begin{matrix}3.10862446895044 \\cdot 10^{-15}\\\\0\\end{matrix}\\right]$"
          },
          "metadata": {}
        },
        {
          "output_type": "stream",
          "name": "stdout",
          "text": [
            "\n",
            "d0 : Matrix([[1.56521739130435], [0]])\n",
            "Nilai X: Matrix([[3.10862446895044e-15], [0]])\n",
            "Gradient: [2*x1/(x1**2 + x2**2 + 2)**2, 2*x2/(x1**2 + x2**2 + 2)**2]\n",
            "Gradient Matrix([[3.10862446895044e-15], [0]]): [0.158089522416697, 0]\n",
            "Iterasi ke-2\n",
            "gradf(x1) : [1.55431223447522e-15, 0]\n",
            "a : [1.00000000000000]\n",
            "\n",
            "x(2)\n"
          ]
        },
        {
          "output_type": "display_data",
          "data": {
            "text/plain": [
              "[3.10862446895044e-15 - 3.10862446895044e-15*lamda, 0]"
            ],
            "text/latex": "$\\displaystyle \\left[ 3.10862446895044 \\cdot 10^{-15} - 3.10862446895044 \\cdot 10^{-15} \\lambda, \\  0\\right]$"
          },
          "metadata": {}
        },
        {
          "output_type": "stream",
          "name": "stdout",
          "text": [
            "\n",
            "f(x2)\n"
          ]
        },
        {
          "output_type": "display_data",
          "data": {
            "text/plain": [
              "                 -1                  \n",
              "-------------------------------------\n",
              "                                2    \n",
              "9.66354608895739e-30*(1 - lamda)  + 2"
            ],
            "text/latex": "$\\displaystyle - \\frac{1}{9.66354608895739 \\cdot 10^{-30} \\left(1 - \\lambda\\right)^{2} + 2}$"
          },
          "metadata": {}
        },
        {
          "output_type": "stream",
          "name": "stdout",
          "text": [
            "\n",
            "f'(x2)\n"
          ]
        },
        {
          "output_type": "display_data",
          "data": {
            "text/plain": [
              "-(1.93270921779148e-29 - 1.93270921779148e-29*lamda) \n",
              "-----------------------------------------------------\n",
              "                                              2      \n",
              "        /                               2    \\       \n",
              "      4*\\4.8317730444787e-30*(1 - lamda)  + 1/       "
            ],
            "text/latex": "$\\displaystyle - \\frac{1.93270921779148 \\cdot 10^{-29} - 1.93270921779148 \\cdot 10^{-29} \\lambda}{4 \\left(4.8317730444787 \\cdot 10^{-30} \\left(1 - \\lambda\\right)^{2} + 1\\right)^{2}}$"
          },
          "metadata": {}
        },
        {
          "output_type": "stream",
          "name": "stdout",
          "text": [
            "\n",
            "hessian\n"
          ]
        },
        {
          "output_type": "display_data",
          "data": {
            "text/plain": [
              "[           2                                                                ]\n",
              "[       8*x1                 2                       -8*x1*x2                ]\n",
              "[- ---------------- + ----------------            ----------------           ]\n",
              "[                 3                  2                           3           ]\n",
              "[  /  2     2    \\    /  2     2    \\             /  2     2    \\            ]\n",
              "[  \\x1  + x2  + 2/    \\x1  + x2  + 2/             \\x1  + x2  + 2/            ]\n",
              "[                                                                            ]\n",
              "[                                                  2                         ]\n",
              "[             -8*x1*x2                         8*x2                 2        ]\n",
              "[          ----------------             - ---------------- + ----------------]\n",
              "[                         3                              3                  2]\n",
              "[          /  2     2    \\                /  2     2    \\    /  2     2    \\ ]\n",
              "[          \\x1  + x2  + 2/                \\x1  + x2  + 2/    \\x1  + x2  + 2/ ]"
            ],
            "text/latex": "$\\displaystyle \\left[\\begin{matrix}- \\frac{8 x_{1}^{2}}{\\left(x_{1}^{2} + x_{2}^{2} + 2\\right)^{3}} + \\frac{2}{\\left(x_{1}^{2} + x_{2}^{2} + 2\\right)^{2}} & - \\frac{8 x_{1} x_{2}}{\\left(x_{1}^{2} + x_{2}^{2} + 2\\right)^{3}}\\\\- \\frac{8 x_{1} x_{2}}{\\left(x_{1}^{2} + x_{2}^{2} + 2\\right)^{3}} & - \\frac{8 x_{2}^{2}}{\\left(x_{1}^{2} + x_{2}^{2} + 2\\right)^{3}} + \\frac{2}{\\left(x_{1}^{2} + x_{2}^{2} + 2\\right)^{2}}\\end{matrix}\\right]$"
          },
          "metadata": {}
        },
        {
          "output_type": "stream",
          "name": "stdout",
          "text": [
            "\n",
            "hessian(x1)\n"
          ]
        },
        {
          "output_type": "display_data",
          "data": {
            "text/plain": [
              "[0.5   0 ]\n",
              "[        ]\n",
              "[ 0   0.5]"
            ],
            "text/latex": "$\\displaystyle \\left[\\begin{matrix}0.5 & 0\\\\0 & 0.5\\end{matrix}\\right]$"
          },
          "metadata": {}
        },
        {
          "output_type": "stream",
          "name": "stdout",
          "text": [
            "\n",
            "invers hessian(x1)\n"
          ]
        },
        {
          "output_type": "display_data",
          "data": {
            "text/plain": [
              "[-2.0   0  ]\n",
              "[          ]\n",
              "[ 0    -2.0]"
            ],
            "text/latex": "$\\displaystyle \\left[\\begin{matrix}-2.0 & 0\\\\0 & -2.0\\end{matrix}\\right]$"
          },
          "metadata": {}
        },
        {
          "output_type": "stream",
          "name": "stdout",
          "text": [
            "\n",
            "\n",
            "x2\n"
          ]
        },
        {
          "output_type": "display_data",
          "data": {
            "text/plain": [
              "[0]\n",
              "[ ]\n",
              "[0]"
            ],
            "text/latex": "$\\displaystyle \\left[\\begin{matrix}0\\\\0\\end{matrix}\\right]$"
          },
          "metadata": {}
        },
        {
          "output_type": "stream",
          "name": "stdout",
          "text": [
            "\n",
            "d1 : Matrix([[-3.10862446895044e-15], [0]])\n",
            "Nilai X: Matrix([[0], [0]])\n",
            "Gradient: [2*x1/(x1**2 + x2**2 + 2)**2, 2*x2/(x1**2 + x2**2 + 2)**2]\n",
            "Gradient Matrix([[0], [0]]): [-1.55431223447522e-15, 0]\n",
            "Konvergensi tercapai.\n"
          ]
        }
      ]
    },
    {
      "cell_type": "code",
      "source": [
        "from sympy import symbols, sympify, diff, hessian, Matrix, zeros, solve\n",
        "\n",
        "def newton():\n",
        "    # Input the number of variables\n",
        "    n = int(input(\"Masukkan banyak variabel: \"))\n",
        "\n",
        "    # Input variable names\n",
        "    var_names = []\n",
        "    for i in range(n):\n",
        "        var_name = input(f\"Masukkan nama variabel ke-{i+1}: \")\n",
        "        var_names.append(var_name)\n",
        "\n",
        "    # Create symbolic variables\n",
        "    symbolic_vars = symbols(var_names)\n",
        "\n",
        "    # Input the objective function\n",
        "    fungsi_str = input(\"Masukkan fungsi objektif: \")\n",
        "    fungsi = sympify(fungsi_str)\n",
        "\n",
        "    # Input initial values for variables\n",
        "    initial_values = []\n",
        "    for i, var_name in enumerate(var_names):\n",
        "        initial_value = float(input(f\"Masukkan titik awal {var_name}: \"))\n",
        "        initial_values.append(initial_value)\n",
        "\n",
        "    # Initialize X with initial values\n",
        "    X = [Matrix(initial_values)]\n",
        "\n",
        "    # Perform Newton's method\n",
        "    iterasi = 0\n",
        "    max_iter = 20\n",
        "    while iterasi < max_iter:\n",
        "        # Compute gradient and Hessian at current point\n",
        "        gradf = [diff(fungsi, var) for var in symbolic_vars]\n",
        "        H = hessian(fungsi, symbolic_vars)\n",
        "        solutions = {symbolic_vars[i]: X[-1][i] for i in range(n)}\n",
        "        gradf_subs = [grad.subs(solutions) for grad in gradf]\n",
        "        H_subs = H.subs(solutions)\n",
        "\n",
        "        # Compute step direction\n",
        "        d = -H_subs.inv() * Matrix(gradf_subs)\n",
        "\n",
        "        # Line search for step size\n",
        "        lamda = symbols('lamda')\n",
        "        xi = [X[-1][i] + lamda * d[i] for i in range(n)]\n",
        "        g = fungsi.subs({symbolic_vars[i]: xi[i] for i in range(n)})\n",
        "        gaksen = diff(g, lamda)\n",
        "        lamda_solution = solve(gaksen)\n",
        "        if lamda_solution:\n",
        "            lamda_optimal = lamda_solution[0]\n",
        "        else:\n",
        "            print(\"Gagal menemukan panjang langkah yang optimal.\")\n",
        "            break\n",
        "\n",
        "        # Update X\n",
        "\n",
        "        print(f\"Iterasi ke-{iterasi+1}\")\n",
        "        print(f\"gradf(x{iterasi}) : {gradf_subs}\")\n",
        "        print(f'a : {lamda_solution}')\n",
        "        print()\n",
        "        print(f\"x({iterasi+1})\")\n",
        "        display(xi)\n",
        "        print()\n",
        "        print(f\"f(x{iterasi+1})\")\n",
        "        display(g)\n",
        "        print()\n",
        "        print(f\"f'(x{iterasi+1})\")\n",
        "        display(gaksen)\n",
        "        print()\n",
        "        print('hessian')\n",
        "        display(H)\n",
        "        print()\n",
        "        print(f\"hessian(x{iterasi})\")\n",
        "        display(H_subs)\n",
        "        print()\n",
        "        print(f\"invers hessian(x{iterasi})\")\n",
        "        display(-H_subs.inv())\n",
        "        print()\n",
        "        X.append(X[-1] + lamda_optimal * d)\n",
        "        nilai = {symbolic_vars[i]: d[i] for i in range(len(d))}\n",
        "        gradf_nilai = [grad.subs(nilai) for grad in gradf]\n",
        "        # Print iteration information\n",
        "        print()\n",
        "        print(f\"x{iterasi+1}\")\n",
        "        display(X[-1])\n",
        "        print()\n",
        "        print(f'd{iterasi} : {d}')\n",
        "        print(\"Nilai X:\", X[-1])\n",
        "        print(\"Gradient:\", gradf)\n",
        "        print(f\"Gradient {X[-1]}: { gradf_nilai}\")\n",
        "        # Check if gradient is close to zero\n",
        "        if all((abs(grad) < 1e-6 )for grad in gradf_subs):\n",
        "            print(\"Konvergensi tercapai.\")\n",
        "            break\n",
        "\n",
        "        iterasi += 1\n",
        "    else:\n",
        "        print(\"Iterasi maksimum tercapai.\")\n",
        "\n",
        "newton()\n"
      ],
      "metadata": {
        "colab": {
          "base_uri": "https://localhost:8080/",
          "height": 837
        },
        "id": "8lVZ9dGoDvS_",
        "outputId": "6e3395f7-0379-4d3e-aeb1-90c917761010"
      },
      "execution_count": null,
      "outputs": [
        {
          "output_type": "stream",
          "name": "stdout",
          "text": [
            "Masukkan banyak variabel: 2\n",
            "Masukkan nama variabel ke-1: x1\n",
            "Masukkan nama variabel ke-2: x2\n",
            "Masukkan fungsi objektif:  4*x1**2+3*x2**2-5*x1*x2-8*x1\n",
            "Masukkan titik awal x1: 0\n",
            "Masukkan titik awal x2: 0\n",
            "Iterasi ke-1\n",
            "gradf(x0) : [-8, 0]\n",
            "a : [1]\n",
            "\n",
            "x(1)\n"
          ]
        },
        {
          "output_type": "display_data",
          "data": {
            "text/plain": [
              " 48*lamda  40*lamda \n",
              "[--------, --------]\n",
              "    23        23    "
            ],
            "text/latex": "$\\displaystyle \\left[ \\frac{48 \\lambda}{23}, \\  \\frac{40 \\lambda}{23}\\right]$"
          },
          "metadata": {}
        },
        {
          "output_type": "stream",
          "name": "stdout",
          "text": [
            "\n",
            "f(x1)\n"
          ]
        },
        {
          "output_type": "display_data",
          "data": {
            "text/plain": [
              "         2            \n",
              "192*lamda    384*lamda\n",
              "---------- - ---------\n",
              "    23           23   "
            ],
            "text/latex": "$\\displaystyle \\frac{192 \\lambda^{2}}{23} - \\frac{384 \\lambda}{23}$"
          },
          "metadata": {}
        },
        {
          "output_type": "stream",
          "name": "stdout",
          "text": [
            "\n",
            "f'(x1)\n"
          ]
        },
        {
          "output_type": "display_data",
          "data": {
            "text/plain": [
              "384*lamda   384\n",
              "--------- - ---\n",
              "    23       23"
            ],
            "text/latex": "$\\displaystyle \\frac{384 \\lambda}{23} - \\frac{384}{23}$"
          },
          "metadata": {}
        },
        {
          "output_type": "stream",
          "name": "stdout",
          "text": [
            "\n",
            "hessian\n"
          ]
        },
        {
          "output_type": "display_data",
          "data": {
            "text/plain": [
              "[8   -5]\n",
              "[      ]\n",
              "[-5  6 ]"
            ],
            "text/latex": "$\\displaystyle \\left[\\begin{matrix}8 & -5\\\\-5 & 6\\end{matrix}\\right]$"
          },
          "metadata": {}
        },
        {
          "output_type": "stream",
          "name": "stdout",
          "text": [
            "\n",
            "hessian(x0)\n"
          ]
        },
        {
          "output_type": "display_data",
          "data": {
            "text/plain": [
              "[8   -5]\n",
              "[      ]\n",
              "[-5  6 ]"
            ],
            "text/latex": "$\\displaystyle \\left[\\begin{matrix}8 & -5\\\\-5 & 6\\end{matrix}\\right]$"
          },
          "metadata": {}
        },
        {
          "output_type": "stream",
          "name": "stdout",
          "text": [
            "\n",
            "invers hessian(x0)\n"
          ]
        },
        {
          "output_type": "display_data",
          "data": {
            "text/plain": [
              "[-6/23  -5/23]\n",
              "[            ]\n",
              "[-5/23  -8/23]"
            ],
            "text/latex": "$\\displaystyle \\left[\\begin{matrix}- \\frac{6}{23} & - \\frac{5}{23}\\\\- \\frac{5}{23} & - \\frac{8}{23}\\end{matrix}\\right]$"
          },
          "metadata": {}
        },
        {
          "output_type": "stream",
          "name": "stdout",
          "text": [
            "\n",
            "\n",
            "x1\n"
          ]
        },
        {
          "output_type": "display_data",
          "data": {
            "text/plain": [
              "[48]\n",
              "[--]\n",
              "[23]\n",
              "[  ]\n",
              "[40]\n",
              "[--]\n",
              "[23]"
            ],
            "text/latex": "$\\displaystyle \\left[\\begin{matrix}\\frac{48}{23}\\\\\\frac{40}{23}\\end{matrix}\\right]$"
          },
          "metadata": {}
        },
        {
          "output_type": "stream",
          "name": "stdout",
          "text": [
            "\n",
            "d0 : Matrix([[48/23], [40/23]])\n",
            "Nilai X: Matrix([[48/23], [40/23]])\n",
            "Gradient: [8*x1 - 5*x2 - 8, -5*x1 + 6*x2]\n",
            "Gradient Matrix([[48/23], [40/23]]): [0, 0]\n",
            "Gagal menemukan panjang langkah yang optimal.\n"
          ]
        }
      ]
    },
    {
      "cell_type": "code",
      "source": [],
      "metadata": {
        "id": "LqfRcQosEvYx"
      },
      "execution_count": null,
      "outputs": []
    }
  ]
}